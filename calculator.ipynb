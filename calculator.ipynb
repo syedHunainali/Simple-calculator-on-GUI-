{
 "cells": [
  {
   "cell_type": "code",
   "execution_count": 1,
   "id": "0dff5d2d",
   "metadata": {},
   "outputs": [
    {
     "ename": "SyntaxError",
     "evalue": "invalid syntax (2568985257.py, line 45)",
     "output_type": "error",
     "traceback": [
      "\u001b[1;36m  Input \u001b[1;32mIn [1]\u001b[1;36m\u001b[0m\n\u001b[1;33m    if (Equals==int) or (Equals==float) and\u001b[0m\n\u001b[1;37m                                            ^\u001b[0m\n\u001b[1;31mSyntaxError\u001b[0m\u001b[1;31m:\u001b[0m invalid syntax\n"
     ]
    }
   ],
   "source": [
    "import tkinter \n",
    "from tkinter import*\n",
    "from tkinter import Tk\n",
    "\n",
    "cal = Tk()\n",
    "cal.title(\"calculator\")\n",
    "\n",
    "operator = \"\"\n",
    "text_input = StringVar()\n",
    "\n",
    "def btnClick(numbers):\n",
    "    global operator\n",
    "    operator = operator + str(numbers)\n",
    "    text_input.set(operator)\n",
    "    \n",
    "def btnClearDisplay():\n",
    "    global operator\n",
    "    operator = \"\"\n",
    "    text_input.set(\"\")\n",
    "    \n",
    "def btnEqualsInput():\n",
    "    global operator\n",
    "    ans = str(eval(operator))\n",
    "    text_input.set(ans)\n",
    "\n",
    "txtDisplay = Entry(cal, font=('arial',20,'bold'), textvariable=text_input,bd=30, insertwidth =4, bg = \"powder blue\",justify = \"right\").grid(columnspan = 4)\n",
    "btn0 = Button (cal,padx = 16,bd =8, fg=\"black\",font=('arial',20,'bold'),text = \"0\",command =lambda:btnClick(0)).grid(row= 4,column=1)\n",
    "btn1=Button(cal,padx=16,bd=8,fg=\"black\",font=('arial',20,'bold'),text=\"1\",command=lambda:btnClick(1)).grid(row= 3,column= 0)\n",
    "btn2=Button(cal,padx=16,bd=8,fg=\"black\",font=('arial',20,'bold'),text=\"2\",command=lambda:btnClick(2)).grid(row=3,column=1)\n",
    "btn3=Button(cal,padx=16,bd=8,fg=\"black\",font=('arial',20,'bold'),text=\"3\",command=lambda:btnClick(3)).grid(row=3,column=2)\n",
    "btn4=Button(cal,padx=16,bd=8,fg=\"black\",font=('arial',20,'bold'),text=\"4\",command=lambda:btnClick(4)).grid(row=2,column=0)\n",
    "btn5=Button(cal,padx=16,bd=8,fg=\"black\",font=('arial',20,'bold'),text=\"5\",command=lambda:btnClick(5)).grid(row=2,column=1)\n",
    "btn6=Button(cal,padx=16,bd=8,fg=\"black\",font=('arial',20,'bold'),text=\"6\",command=lambda:btnClick(6)).grid(row=2,column=2)\n",
    "btn7=Button(cal,padx=16,bd=8,fg=\"black\",font=('arial',20,'bold'),text=\"7\",command=lambda:btnClick(7)).grid(row=1,column=0)\n",
    "btn8=Button(cal,padx=16,bd=8,fg=\"black\",font=('arial',20,'bold'),text=\"8\",command=lambda:btnClick(8)).grid(row=1,column=1)\n",
    "btn9=Button(cal,padx=16,bd=8,fg=\"black\",font=('arial',20,'bold'),text=\"9\",command=lambda:btnClick(9)).grid(row=1,column=2)\n",
    "\n",
    "addition=Button(cal,padx=16,bd=8,fg=\"black\",font=('arial',20,'bold'),text=\"+\",command=lambda:btnClick(\"+\")).grid(row=1,column=3)\n",
    "subtraction =Button(cal,padx=16,bd=8,fg=\"black\",font=('arial',20,'bold'),text=\"-\",command=lambda:btnClick(\"-\")).grid(row=2,column=3)\n",
    "multiplication=Button(cal,padx=16,bd=8,fg=\"black\",font=('arial',20,'bold'),text=\"x\",command=lambda:btnClick(\"*\")).grid(row=3,column=3)\n",
    "divide=Button(cal,padx=16,bd=8,fg=\"black\",font=('arial',20,'bold'),text=\"÷\",command=lambda:btnClick(\"/\")).grid(row=4,column=3)\n",
    "\n",
    "Equals=Button(cal,padx=16,bd=8,fg=\"black\",font=('arial',20,'bold'),text=\"=\",command = btnEqualsInput).grid(row=4,column=2)\n",
    "def after():\n",
    "    if (Equals==int) or (Equals==float) and \n",
    "        \n",
    "\n",
    "    \n",
    "clear=Button(cal,padx=16,bd=8,fg=\"black\",font=('arial',20,'bold'),text=\"c\",command = btnClearDisplay).grid(row=4,column=0)\n",
    "cal.mainloop()"
   ]
  },
  {
   "cell_type": "markdown",
   "id": "47cf6af5",
   "metadata": {},
   "source": [
    "###### "
   ]
  },
  {
   "cell_type": "code",
   "execution_count": null,
   "id": "184ae1c4",
   "metadata": {},
   "outputs": [],
   "source": []
  }
 ],
 "metadata": {
  "kernelspec": {
   "display_name": "Python 3 (ipykernel)",
   "language": "python",
   "name": "python3"
  },
  "language_info": {
   "codemirror_mode": {
    "name": "ipython",
    "version": 3
   },
   "file_extension": ".py",
   "mimetype": "text/x-python",
   "name": "python",
   "nbconvert_exporter": "python",
   "pygments_lexer": "ipython3",
   "version": "3.8.7"
  }
 },
 "nbformat": 4,
 "nbformat_minor": 5
}
